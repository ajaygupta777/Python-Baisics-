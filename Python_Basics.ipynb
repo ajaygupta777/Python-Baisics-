{
  "nbformat": 4,
  "nbformat_minor": 0,
  "metadata": {
    "colab": {
      "provenance": [],
      "authorship_tag": "ABX9TyMZgPly4oSiwL55V7rXHZcH",
      "include_colab_link": true
    },
    "kernelspec": {
      "name": "python3",
      "display_name": "Python 3"
    },
    "language_info": {
      "name": "python"
    }
  },
  "cells": [
    {
      "cell_type": "markdown",
      "metadata": {
        "id": "view-in-github",
        "colab_type": "text"
      },
      "source": [
        "<a href=\"https://colab.research.google.com/github/ajaygupta777/Python-Baisics-/blob/main/Python_Basics.ipynb\" target=\"_parent\"><img src=\"https://colab.research.google.com/assets/colab-badge.svg\" alt=\"Open In Colab\"/></a>"
      ]
    },
    {
      "cell_type": "markdown",
      "source": [
        "**Python** **Baiscs**"
      ],
      "metadata": {
        "id": "AW8gmC-ueE4b"
      }
    },
    {
      "cell_type": "markdown",
      "source": [
        "Name : Ajay Kumar Gupta"
      ],
      "metadata": {
        "id": "0BV87hXfdKN0"
      }
    },
    {
      "cell_type": "markdown",
      "source": [
        "1. What is Python, and why is it popular?\n",
        "- Python is a high-level, general-purpose programming language. It is known for its clear syntax and readability, making it relatively easy to learn and use. Python supports multiple programming paradigms, including procedural, object-oriented, and functional programming.\n",
        "\n",
        "Why is Python Popular?\n",
        "\n",
        "Python's popularity can be attributed to several factors:\n",
        "\n",
        "Beginner-Friendliness: Python's simple syntax and readability make it an excellent choice for beginners.\n",
        "\n",
        "Versatility: Python is a versatile language used in various domains, including web development, data science, machine learning, scripting, and automation.\n",
        "\n",
        "Large and Active Community: Python has a large and active community of developers who contribute to its development, provide support, and create a vast ecosystem of libraries and frameworks.\n",
        "\n",
        "Extensive Libraries and Frameworks: Python offers a rich collection of libraries and frameworks that simplify development tasks. These libraries provide pre-built functions and tools for various purposes, saving developers time and effort. For example, popular libraries like NumPy, Pandas, and Scikit-learn are widely used in data science and machine learning.\n",
        "\n",
        "Readability and Maintainability: Python's clear syntax and emphasis on code readability make it easier to maintain and collaborate on projects. This is crucial for large-scale software development where multiple developers work together.\n",
        "\n",
        "2. What is an interpreter in Python?\n",
        "- In Python, the interpreter is a program that reads and executes your code line by line. It acts as an intermediary between your code and the computer's hardware, translating your instructions into machine-readable language that the computer can understand and execute.\n",
        "\n",
        "Think of the interpreter like a translator who understands both your language (Python code) and the computer's language (machine code). It takes your instructions, converts them into a language the computer can understand, and then tells the computer what to do.\n",
        "\n",
        "3. What are pre-defined keywords in Python?\n",
        "- In Python, keywords are reserved words that have special meanings and purposes. They are part of the language's syntax and cannot be used as identifiers (e.g., variable names, function names).\n",
        "\n",
        "list of some common Python keywords:\n",
        "- True, False\n",
        "- and, or, not\n",
        "- if, elif, else\n",
        "- for, while loop\n",
        "- break, continue\n",
        "- def\n",
        "- class\n",
        "- import\n",
        "- lambda\n",
        "...etc.\n",
        "\n",
        "4. Can keywords be used as variable names?\n",
        "- No, keywords cannot be used as variable names in Python.\n",
        "\n",
        "- Keywords are reserved words that have special meanings and purposes in the Python language. They are used to define the structure and syntax of the code. If you try to use a keyword as a variable name, it will cause a syntax error because the interpreter will interpret it as a keyword and not as a variable.\n",
        "\n",
        "- Appending an underscore is a common workaround.\n",
        "\n",
        "5. What is mutability in Python?\n",
        "- In Python, mutability refers to the ability of an object to change its value after it has been created. Objects whose values can be changed are called mutable, while objects whose values cannot be changed are called immutable.\n",
        "\n",
        "- Mutable Objects:\n",
        "Lists\n",
        "Dictionaries\n",
        "Sets\n",
        "\n",
        "- Immutable Objects:\n",
        "Numbers (int, float, complex)\n",
        "Strings\n",
        "Tuples\n",
        "Frozen sets\n",
        "\n",
        "6. Why are lists mutable, but tuples are immutable?\n",
        "- Lists are mutable because they are designed to be dynamic data structures. They are intended for scenarios where you need to modify the collection of items, such as adding, removing, or changing elements. This flexibility is essential for many programming tasks.\n",
        "\n",
        "Tuples, on the other hand, are immutable because they are intended to represent fixed collections of items. They are often used for grouping related data that should not be altered after creation.\n",
        "\n",
        "- Key Differences:\n",
        "\n",
        "Mutability: Lists can be modified after creation, while tuples cannot.\n",
        "\n",
        "Syntax: Lists are defined using square brackets [], while tuples are defined using parentheses ().\n",
        "\n",
        "Methods: Lists have methods for adding, removing, and changing elements, while tuples have fewer methods primarily focused on accessing elements.\n",
        "\n",
        "\n",
        "7. What is the difference between “==” and “is” operators in Python?\n",
        "- The == operator compares the values of two objects. It checks if the objects have the same content or data.\n",
        "\n",
        "- The is operator compares the identity of two objects. It checks if both variables refer to the same object in memory.\n",
        "\n",
        "8. What are logical operators in Python?\n",
        "- Logical operators are used to combine or modify Boolean expressions (expressions that evaluate to either True or False). Python has three main logical operators:\n",
        "\n",
        "(i) and (Logical AND)\n",
        "(ii) or (Logical OR)\n",
        "(iii) not (Logical NOT)\n",
        "\n",
        "i) and Operator\n",
        "The and operator returns True if both operands are True. Otherwise, it returns False.\n",
        "\n",
        "ii) or Operator\n",
        "The or operator returns True if at least one of the operands is True. It returns False only if both operands are False.\n",
        "\n",
        "iii) not Operator\n",
        "The not operator inverts the truth value of its operand. If the operand is True, it returns False. If the operand is False, it returns True.\n",
        "\n",
        "9. What is type casting in Python?\n",
        "- Type casting, also known as type conversion, is the process of converting a value of one data type to another. This is often necessary when working with different types of data in your programs.\n",
        "\n",
        "- Common Type Casting Functions\n",
        "\n",
        "int(): Converts a value to an integer.\n",
        "float(): Converts a value to a floating-point number.\n",
        "str(): Converts a value to a string.\n",
        "bool(): Converts a value to a boolean (True or False).\n",
        "\n",
        "10. What is the difference between implicit and explicit type casting?\n",
        "- Implicit Type Casting\n",
        "\n",
        "Definition: Implicit type casting, also known as automatic type conversion, is performed by the Python interpreter without any explicit instruction from the programmer.\n",
        "\n",
        "How it works: The interpreter automatically converts one data type to another based on the context of the operation being performed. This is usually done to avoid data loss or errors.\n",
        "\n",
        "- Explicit Type Casting\n",
        "\n",
        "Definition: Explicit type casting, also known as manual type conversion, is performed by the programmer using type casting functions such as int(), float(), str(), etc.\n",
        "\n",
        "How it works: You explicitly specify the desired data type for the conversion using these functions.\n",
        "\n",
        "\n",
        "11. What is the purpose of conditional statements in Python?\n",
        "- Conditional statements are fundamental programming constructs that allow you to control the flow of execution based on certain conditions. They enable your program to make decisions and execute different blocks of code depending on whether a condition is true or false.\n",
        "\n",
        "Purpose of Conditional Statements\n",
        "\n",
        "The primary purpose of conditional statements is to introduce decision-making logic into your programs. They allow you to:\n",
        "\n",
        "Execute code selectively: You can specify blocks of code that should only be executed if a particular condition is met.\n",
        "Create branches in program flow: Conditional statements create alternative paths of execution, allowing your program to adapt to different situations.\n",
        "Implement complex logic: By combining multiple conditional statements, you can create intricate decision-making structures to handle a wide range of scenarios.\n",
        "Types of Conditional Statements in Python\n",
        "\n",
        "Python provides the following conditional statements:\n",
        "\n",
        "if statement: Executes a block of code if a condition is true.\n",
        "elif statement (optional): Allows you to check multiple conditions sequentially.\n",
        "else statement (optional): Provides a default block of code to execute if none of the preceding conditions are true.\n",
        "\n",
        "12. How does the elif statement work?\n",
        "- The elif statement is used in conjunction with the if statement to check multiple conditions sequentially. It stands for \"else if\" and provides a way to execute different blocks of code based on a series of conditions.\n",
        "\n",
        "- How it Works\n",
        "\n",
        "i)The if statement is evaluated first. If the condition is True, the code inside the if block is executed, and the remaining elif and else blocks are skipped.\n",
        "ii)If the if condition is False, the interpreter moves to the first elif statement and evaluates its condition. If the condition is True, the code inside the elif block is executed, and the remaining elif and else blocks are skipped.\n",
        "iii)This process continues for each elif statement until a condition is found to be True or until there are no more elif statements.\n",
        "iv)If none of the if or elif conditions are True, the code inside the else block is executed (if an else block is present).\n",
        "\n",
        "\n",
        "13. What is the difference between for and while loops?\n",
        "- Both for and while loops are used for iteration, but they differ in how they control the iteration process:\n",
        "\n",
        "- for loops are used for iterating over sequences, while while loops are used for repeating code based on a condition.\n",
        "\n",
        "- for loop\n",
        "Purpose: Iterates over a sequence (such as a list, tuple, string, or range) or other iterable object.\n",
        "\n",
        "- while loop\n",
        "Purpose: Repeats a block of code as long as a condition is true.\n",
        "\n",
        "14. Describe a scenario where a while loop is more suitable than a for loop.\n",
        "- A while loop is more suitable than a for loop when you need to repeat code based on a condition that may change during the loop's execution, and when the number of iterations is not known in advance.\n",
        "\n",
        "Why not a for loop?\n",
        "A for loop wouldn't be a good choice here because you don't know how many times to iterate beforehand. You'd need to either impose an arbitrary limit (potentially cutting off the user) or use a complex structure to break out of the loop prematurely, making the code less readable."
      ],
      "metadata": {
        "id": "XXY7v2ome87C"
      }
    },
    {
      "cell_type": "markdown",
      "source": [
        "**Practical Questions**"
      ],
      "metadata": {
        "id": "wix6S9w3P2UX"
      }
    },
    {
      "cell_type": "markdown",
      "source": [
        "1. Write a Python program to print \"Hello, World!\"\n"
      ],
      "metadata": {
        "id": "4K1-jg_JPfqN"
      }
    },
    {
      "cell_type": "code",
      "source": [
        "print(\"Hello World!\")"
      ],
      "metadata": {
        "colab": {
          "base_uri": "https://localhost:8080/"
        },
        "id": "Dkrz2FXUQEhw",
        "outputId": "47205d60-a255-4390-e178-11c4af90707d"
      },
      "execution_count": 1,
      "outputs": [
        {
          "output_type": "stream",
          "name": "stdout",
          "text": [
            "Hello World!\n"
          ]
        }
      ]
    },
    {
      "cell_type": "markdown",
      "source": [
        "2.  Write a Python program that displays your name and age.\n"
      ],
      "metadata": {
        "id": "1IeRyXZxQT-C"
      }
    },
    {
      "cell_type": "code",
      "source": [
        "name = input(\"enter your name:\")\n",
        "age = int(input(\"enter your age:\"))\n",
        "print(\"name:\",name)\n",
        "print(\"age:\",age)\n"
      ],
      "metadata": {
        "colab": {
          "base_uri": "https://localhost:8080/"
        },
        "id": "-bh1gvNvQrrO",
        "outputId": "0ccbc0fe-aa99-4034-e231-53a8726799b9"
      },
      "execution_count": 2,
      "outputs": [
        {
          "output_type": "stream",
          "name": "stdout",
          "text": [
            "enter your name:AJAY KUMAR GUPTA\n",
            "enter your age:21\n",
            "name: AJAY KUMAR GUPTA\n",
            "age: 21\n"
          ]
        }
      ]
    },
    {
      "cell_type": "markdown",
      "source": [
        "3. Write code to print all the pre-defined keywords in Python using the keyword library.\n"
      ],
      "metadata": {
        "id": "5YmrH4UsRqM4"
      }
    },
    {
      "cell_type": "code",
      "source": [
        "import keyword\n",
        "\n",
        "all_keywords = keyword.kwlist\n",
        "print(all_keywords)\n"
      ],
      "metadata": {
        "colab": {
          "base_uri": "https://localhost:8080/"
        },
        "id": "Z-pYgJGIR_RM",
        "outputId": "e0bc254d-96cf-4f1a-e23c-cd6775154dcb"
      },
      "execution_count": 3,
      "outputs": [
        {
          "output_type": "stream",
          "name": "stdout",
          "text": [
            "['False', 'None', 'True', 'and', 'as', 'assert', 'async', 'await', 'break', 'class', 'continue', 'def', 'del', 'elif', 'else', 'except', 'finally', 'for', 'from', 'global', 'if', 'import', 'in', 'is', 'lambda', 'nonlocal', 'not', 'or', 'pass', 'raise', 'return', 'try', 'while', 'with', 'yield']\n"
          ]
        }
      ]
    },
    {
      "cell_type": "markdown",
      "source": [
        "4. Write a program that checks if a given word is a Python keyword.\n"
      ],
      "metadata": {
        "id": "JLWuFv9gSXZn"
      }
    },
    {
      "source": [
        "\n",
        "import keyword\n",
        "\n",
        "def is_keyword(word):\n",
        "  \"\"\"Checks if a given word is a Python keyword.\n",
        "\n",
        "  Args:\n",
        "    word: The word to check.\n",
        "\n",
        "  Returns:\n",
        "    True if the word is a keyword, False otherwise.\n",
        "  \"\"\"\n",
        "  return keyword.iskeyword(word)\n",
        "\n",
        "# Get input from the user\n",
        "word_to_check = input(\"Enter a word: \")\n",
        "\n",
        "# Check if the word is a keyword\n",
        "if is_keyword(word_to_check):\n",
        "  print(f\"'{word_to_check}' is a Python keyword.\")\n",
        "else:\n",
        "  print(f\"'{word_to_check}' is not a Python keyword.\")"
      ],
      "cell_type": "code",
      "metadata": {
        "colab": {
          "base_uri": "https://localhost:8080/"
        },
        "id": "ZL-rozs1S4Db",
        "outputId": "10741d70-81e2-4b6c-f255-ac9e0de1f938"
      },
      "execution_count": 5,
      "outputs": [
        {
          "output_type": "stream",
          "name": "stdout",
          "text": [
            "Enter a word: lambda\n",
            "'lambda' is a Python keyword.\n"
          ]
        }
      ]
    },
    {
      "cell_type": "markdown",
      "source": [
        "5. Create a list and tuple in Python, and demonstrate how attempting to change an element works differently for each.\n"
      ],
      "metadata": {
        "id": "85ehnvBtTLJB"
      }
    },
    {
      "source": [
        "# Create a list\n",
        "my_list = [1, 2, 3]\n",
        "\n",
        "# Create a tuple\n",
        "my_tuple = (1, 2, 3)\n",
        "\n",
        "# Attempt to change an element in the list\n",
        "my_list[0] = 77  # This will work\n",
        "\n",
        "# Attempt to change an element in the tuple\n",
        "# my_tuple[0] = 10  # This will raise a TypeError\n",
        "\n",
        "# Print the list and tuple\n",
        "print(\"List:\", my_list)\n",
        "print(\"Tuple:\", my_tuple)"
      ],
      "cell_type": "code",
      "metadata": {
        "colab": {
          "base_uri": "https://localhost:8080/"
        },
        "id": "Bfm9jV4rTl4Q",
        "outputId": "8b415a3f-4d6d-407d-c715-221b5af02b6f"
      },
      "execution_count": 7,
      "outputs": [
        {
          "output_type": "stream",
          "name": "stdout",
          "text": [
            "List: [77, 2, 3]\n",
            "Tuple: (1, 2, 3)\n"
          ]
        }
      ]
    },
    {
      "cell_type": "markdown",
      "source": [
        "6. Write a function to demonstrate the behavior of mutable and immutable arguments."
      ],
      "metadata": {
        "id": "0e7MNhMnUDfD"
      }
    },
    {
      "source": [
        "def modify_arguments(number, my_list):\n",
        "  \"\"\"Demonstrates the behavior of mutable and immutable arguments.\n",
        "\n",
        "  Args:\n",
        "    number: An integer (immutable).\n",
        "    my_list: A list (mutable).\n",
        "  \"\"\"\n",
        "  number += 11\n",
        "  my_list.append(6)\n",
        "  print(\"Inside function:\")\n",
        "  print(\"Number:\", number)\n",
        "  print(\"List:\", my_list)\n",
        "\n",
        "# Initialize variables\n",
        "original_number = 5\n",
        "original_list = [1, 2, 3]\n",
        "\n",
        "# Call the function\n",
        "modify_arguments(original_number, original_list)\n",
        "\n",
        "# Print the original variables after the function call\n",
        "print(\"\\nOutside function:\")\n",
        "print(\"Original Number:\", original_number)\n",
        "print(\"Original List:\", original_list)"
      ],
      "cell_type": "code",
      "metadata": {
        "colab": {
          "base_uri": "https://localhost:8080/"
        },
        "id": "OM7RRK3uUVo7",
        "outputId": "258b4db1-d655-4b1e-a95e-08dc3c100b9d"
      },
      "execution_count": 10,
      "outputs": [
        {
          "output_type": "stream",
          "name": "stdout",
          "text": [
            "Inside function:\n",
            "Number: 16\n",
            "List: [1, 2, 3, 6]\n",
            "\n",
            "Outside function:\n",
            "Original Number: 5\n",
            "Original List: [1, 2, 3, 6]\n"
          ]
        }
      ]
    },
    {
      "cell_type": "markdown",
      "source": [
        "7. Write a function to demonstrate the behavior of mutable and immutable arguments."
      ],
      "metadata": {
        "id": "iwobRciGU5jq"
      }
    },
    {
      "source": [
        "def modify_arguments(number, my_list):\n",
        "  \"\"\"Demonstrates the behavior of mutable and immutable arguments.\n",
        "\n",
        "  Args:\n",
        "    number: An integer (immutable).\n",
        "    my_list: A list (mutable).\n",
        "  \"\"\"\n",
        "  number += 9\n",
        "  my_list.append(6)\n",
        "  print(\"Inside function:\")\n",
        "  print(\"Number:\", number)\n",
        "  print(\"List:\", my_list)\n",
        "\n",
        "# Initialize variables\n",
        "original_number = 1\n",
        "original_list = [1, 2, 3]\n",
        "\n",
        "# Call the function\n",
        "modify_arguments(original_number, original_list)\n",
        "\n",
        "# Print the original variables after the function call\n",
        "print(\"\\nOutside function:\")\n",
        "print(\"Original Number:\", original_number)\n",
        "print(\"Original List:\", original_list)"
      ],
      "cell_type": "code",
      "metadata": {
        "colab": {
          "base_uri": "https://localhost:8080/"
        },
        "id": "0Rd6MxqBVIDU",
        "outputId": "a8949d2f-148f-4250-da1a-1419a3ee085c"
      },
      "execution_count": 12,
      "outputs": [
        {
          "output_type": "stream",
          "name": "stdout",
          "text": [
            "Inside function:\n",
            "Number: 10\n",
            "List: [1, 2, 3, 6]\n",
            "\n",
            "Outside function:\n",
            "Original Number: 1\n",
            "Original List: [1, 2, 3, 6]\n"
          ]
        }
      ]
    },
    {
      "cell_type": "markdown",
      "source": [
        "8. Write a program to demonstrate the use of logical operators."
      ],
      "metadata": {
        "id": "vBFPwLurWFaC"
      }
    },
    {
      "source": [
        "# Example 1: and operator\n",
        "x = 5\n",
        "y = 10\n",
        "\n",
        "if x > 0 and y < 20:\n",
        "  print(\"Both conditions are True\")\n",
        "\n",
        "# Example 2: or operator\n",
        "a = True\n",
        "b = False\n",
        "\n",
        "if a or b:\n",
        "  print(\"At least one condition is True\")\n",
        "\n",
        "# Example 3: not operator\n",
        "is_raining = False\n",
        "\n",
        "if not is_raining:\n",
        "  print(\"It's not raining\")"
      ],
      "cell_type": "code",
      "metadata": {
        "colab": {
          "base_uri": "https://localhost:8080/"
        },
        "id": "LAHplNYtWT9q",
        "outputId": "956a443b-1a1d-49a5-8217-f6599ad975e1"
      },
      "execution_count": 13,
      "outputs": [
        {
          "output_type": "stream",
          "name": "stdout",
          "text": [
            "Both conditions are True\n",
            "At least one condition is True\n",
            "It's not raining\n"
          ]
        }
      ]
    },
    {
      "cell_type": "markdown",
      "source": [
        "9. Write a Python program to convert user input from string to integer, float, and boolean types.\n"
      ],
      "metadata": {
        "id": "McpybDuvWxj0"
      }
    },
    {
      "source": [
        "def convert_to_types():\n",
        "  \"\"\"Converts user input to integer, float, and boolean types.\"\"\"\n",
        "\n",
        "  user_input = input(\"Enter a value: \")\n",
        "\n",
        "  try:\n",
        "    integer_value = int(user_input)\n",
        "    print(f\"Integer: {integer_value}\")\n",
        "  except ValueError:\n",
        "    print(\"Could not convert to integer.\")\n",
        "\n",
        "  try:\n",
        "    float_value = float(user_input)\n",
        "    print(f\"Float: {float_value}\")\n",
        "  except ValueError:\n",
        "    print(\"Could not convert to float.\")\n",
        "\n",
        "  if user_input.lower() in [\"true\", \"1\"]:\n",
        "    boolean_value = True\n",
        "  elif user_input.lower() in [\"false\", \"0\"]:\n",
        "    boolean_value = False\n",
        "  else:\n",
        "    boolean_value = None  # Or handle the case as you prefer\n",
        "\n",
        "  if boolean_value is not None:\n",
        "    print(f\"Boolean: {boolean_value}\")\n",
        "  else:\n",
        "    print(\"Could not convert to boolean.\")\n",
        "\n",
        "# Call the function\n",
        "convert_to_types()"
      ],
      "cell_type": "code",
      "metadata": {
        "colab": {
          "base_uri": "https://localhost:8080/"
        },
        "id": "bowuLl14YG6-",
        "outputId": "00bbc3dc-02fd-4291-e112-6aa827dbc40b"
      },
      "execution_count": 16,
      "outputs": [
        {
          "output_type": "stream",
          "name": "stdout",
          "text": [
            "Enter a value: 7\n",
            "Integer: 7\n",
            "Float: 7.0\n",
            "Could not convert to boolean.\n"
          ]
        }
      ]
    },
    {
      "cell_type": "markdown",
      "source": [
        "10. Write code to demonstrate type casting with list elements."
      ],
      "metadata": {
        "id": "A6Dy9TreYmvr"
      }
    },
    {
      "source": [
        "# Original list with mixed data types\n",
        "my_list = [5, \"15\", 20.5, \"30\"]\n",
        "\n",
        "# Type casting to integers\n",
        "integer_list = [int(item) for item in my_list if str(item).isdigit()]\n",
        "print(\"Integer List:\", integer_list)\n",
        "\n",
        "# Type casting to floats\n",
        "float_list = [float(item) for item in my_list]\n",
        "print(\"Float List:\", float_list)\n",
        "\n",
        "# Type casting to strings\n",
        "string_list = [str(item) for item in my_list]\n",
        "print(\"String List:\", string_list)"
      ],
      "cell_type": "code",
      "metadata": {
        "colab": {
          "base_uri": "https://localhost:8080/"
        },
        "id": "u_kzcGL3Y1XH",
        "outputId": "a643d1cb-d192-4b6d-f9b3-4b590d26c27c"
      },
      "execution_count": 18,
      "outputs": [
        {
          "output_type": "stream",
          "name": "stdout",
          "text": [
            "Integer List: [5, 15, 30]\n",
            "Float List: [5.0, 15.0, 20.5, 30.0]\n",
            "String List: ['5', '15', '20.5', '30']\n"
          ]
        }
      ]
    },
    {
      "cell_type": "markdown",
      "source": [
        "11. Write a program that checks if a number is positive, negative, or zero.\n"
      ],
      "metadata": {
        "id": "KCk0pyqzZP-R"
      }
    },
    {
      "source": [
        "def check_number(number):\n",
        "  \"\"\"Checks if a number is positive, negative, or zero.\n",
        "\n",
        "  Args:\n",
        "    number: The number to check.\n",
        "\n",
        "  Returns:\n",
        "    A string indicating whether the number is positive, negative, or zero.\n",
        "  \"\"\"\n",
        "  if number > 0:\n",
        "    return \"Positive\"\n",
        "  elif number < 0:\n",
        "    return \"Negative\"\n",
        "  else:\n",
        "    return \"Zero\"\n",
        "\n",
        "# Get input from the user\n",
        "number = float(input(\"Enter a number: \"))\n",
        "\n",
        "# Check the number and print the result\n",
        "result = check_number(number)\n",
        "print(f\"The number is {result}.\")"
      ],
      "cell_type": "code",
      "metadata": {
        "colab": {
          "base_uri": "https://localhost:8080/"
        },
        "id": "jR7Qq3XCZcqZ",
        "outputId": "134eec4b-00e7-4eb8-a350-c3aef3643e2a"
      },
      "execution_count": 19,
      "outputs": [
        {
          "output_type": "stream",
          "name": "stdout",
          "text": [
            "Enter a number: -17\n",
            "The number is Negative.\n"
          ]
        }
      ]
    },
    {
      "cell_type": "markdown",
      "source": [
        "12. Write a for loop to print numbers from 1 to 10."
      ],
      "metadata": {
        "id": "0zomwWZmab0C"
      }
    },
    {
      "source": [
        "for i in range(1, 11):\n",
        "  print(i)"
      ],
      "cell_type": "code",
      "metadata": {
        "colab": {
          "base_uri": "https://localhost:8080/"
        },
        "id": "vTRE739Ma60e",
        "outputId": "ed43181c-a9d1-4404-b0cb-064da35be6d5"
      },
      "execution_count": 20,
      "outputs": [
        {
          "output_type": "stream",
          "name": "stdout",
          "text": [
            "1\n",
            "2\n",
            "3\n",
            "4\n",
            "5\n",
            "6\n",
            "7\n",
            "8\n",
            "9\n",
            "10\n"
          ]
        }
      ]
    },
    {
      "cell_type": "markdown",
      "source": [
        "13. Write a Python program to find the sum of all even numbers between 1 and 50."
      ],
      "metadata": {
        "id": "17PH8x0vbBIW"
      }
    },
    {
      "source": [
        "# Method 1: Using a loop\n",
        "\n",
        "total_sum = 0\n",
        "for number in range(2, 51, 2):  # Iterate through even numbers from 2 to 50\n",
        "  total_sum += number\n",
        "\n",
        "print(\"Sum of even numbers (using loop):\", total_sum)\n",
        "\n",
        "# Method 2: Using sum and list comprehension\n",
        "\n",
        "even_numbers = [number for number in range(2, 51, 2)]\n",
        "total_sum = sum(even_numbers)\n",
        "\n",
        "print(\"Sum of even numbers (using sum and list comprehension):\", total_sum)\n",
        "\n",
        "# Method 3: Using mathematical formula\n",
        "\n",
        "n = 25  # Number of even numbers between 1 and 50 (50 / 2)\n",
        "total_sum = n * (n + 1)  # Formula: n(n+1)\n",
        "\n",
        "print(\"Sum of even numbers (using formula):\", total_sum)"
      ],
      "cell_type": "code",
      "metadata": {
        "colab": {
          "base_uri": "https://localhost:8080/"
        },
        "id": "FYPw9r5KbS_f",
        "outputId": "f63ce15c-46f6-49d4-9f78-03f21126c49a"
      },
      "execution_count": 21,
      "outputs": [
        {
          "output_type": "stream",
          "name": "stdout",
          "text": [
            "Sum of even numbers (using loop): 650\n",
            "Sum of even numbers (using sum and list comprehension): 650\n",
            "Sum of even numbers (using formula): 650\n"
          ]
        }
      ]
    },
    {
      "cell_type": "markdown",
      "source": [
        "14. Write a program to reverse a string using a while loop."
      ],
      "metadata": {
        "id": "GCaBJeDAbkex"
      }
    },
    {
      "source": [
        "def reverse_string(text):\n",
        "  \"\"\"Reverses a string using a while loop.\n",
        "\n",
        "  Args:\n",
        "    text: The string to reverse.\n",
        "\n",
        "  Returns:\n",
        "    The reversed string.\n",
        "  \"\"\"\n",
        "  reversed_text = \"\"\n",
        "  index = len(text) - 1\n",
        "\n",
        "  while index >= 0:\n",
        "    reversed_text += text[index]\n",
        "    index -= 1\n",
        "\n",
        "  return reversed_text\n",
        "\n",
        "# Get input from the user\n",
        "string_to_reverse = input(\"Enter a string: \")\n",
        "\n",
        "# Reverse the string\n",
        "reversed_string = reverse_string(string_to_reverse)\n",
        "\n",
        "# Print the reversed string\n",
        "print(\"Reversed string:\", reversed_string)"
      ],
      "cell_type": "code",
      "metadata": {
        "colab": {
          "base_uri": "https://localhost:8080/"
        },
        "id": "RFFyIG9qbwfX",
        "outputId": "f689eb33-fc60-46e1-85da-68609aeb8ea0"
      },
      "execution_count": 22,
      "outputs": [
        {
          "output_type": "stream",
          "name": "stdout",
          "text": [
            "Enter a string: ajay\n",
            "Reversed string: yaja\n"
          ]
        }
      ]
    },
    {
      "cell_type": "markdown",
      "source": [
        "15. Write a Python program to calculate the factorial of a number provided by the user using a while loop."
      ],
      "metadata": {
        "id": "LtXA66wQb_fa"
      }
    },
    {
      "source": [
        "def factorial(number):\n",
        "  \"\"\"Calculates the factorial of a number using a while loop.\n",
        "\n",
        "  Args:\n",
        "    number: The number for which to calculate the factorial.\n",
        "\n",
        "  Returns:\n",
        "    The factorial of the number.\n",
        "  \"\"\"\n",
        "  if number < 0:\n",
        "    return \"Factorial is not defined for negative numbers.\"\n",
        "  elif number == 0:\n",
        "    return 1\n",
        "  else:\n",
        "    factorial = 1\n",
        "    while number > 1:\n",
        "      factorial *= number\n",
        "      number -= 1\n",
        "    return factorial\n",
        "\n",
        "# Get input from the user\n",
        "num = int(input(\"Enter a non-negative integer: \"))\n",
        "\n",
        "# Calculate and print the factorial\n",
        "result = factorial(num)\n",
        "print(f\"The factorial of {num} is {result}\")"
      ],
      "cell_type": "code",
      "metadata": {
        "colab": {
          "base_uri": "https://localhost:8080/"
        },
        "id": "HYNa8mTBcNN9",
        "outputId": "9f51d6be-f6fa-4ebe-e427-c5e182c8bed5"
      },
      "execution_count": 24,
      "outputs": [
        {
          "output_type": "stream",
          "name": "stdout",
          "text": [
            "Enter a non-negative integer: 5\n",
            "The factorial of 5 is 120\n"
          ]
        }
      ]
    }
  ]
}